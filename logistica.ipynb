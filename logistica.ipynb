{
 "cells": [
  {
   "cell_type": "code",
   "execution_count": null,
   "metadata": {},
   "outputs": [],
   "source": [
    "import numpy as np\n",
    "import matplotlib.pyplot as plt\n",
    "from sklearn.model_selection import train_test_split, KFold\n",
    "from sklearn.metrics import accuracy_score, log_loss\n",
    "from sklearn.linear_model import LogisticRegression\n",
    "from sklearn.preprocessing import StandardScaler"
   ]
  },
  {
   "attachments": {},
   "cell_type": "markdown",
   "metadata": {},
   "source": [
    "#1.1 Carga de datos"
   ]
  },
  {
   "cell_type": "code",
   "execution_count": null,
   "metadata": {},
   "outputs": [],
   "source": [
    "data = np.genfromtxt('framingham.csv', delimiter=',', skip_header=1)\n",
    "data = data[~np.isnan(data).any(axis=1)]"
   ]
  },
  {
   "attachments": {},
   "cell_type": "markdown",
   "metadata": {},
   "source": [
    "#1.2\n",
    "#ajustar modelo de regresion logistica"
   ]
  },
  {
   "cell_type": "code",
   "execution_count": null,
   "metadata": {},
   "outputs": [],
   "source": [
    "# Variable independiente - Nivel de colesterol total\n",
    "X = data[:, 9].reshape(-1, 1)\n",
    "# Variable dependiente - Riesgo de enfermedad coronaria en 10 anios\n",
    "y = data[:, 15]\n",
    "\n",
    "# Normalizacion de datos\n",
    "scaler = StandardScaler()\n",
    "X_scaled = scaler.fit_transform(X)\n",
    "\n",
    "# Agregar columna de unos\n",
    "X_scaled = np.column_stack((np.ones(X_scaled.shape[0]), X_scaled))\n",
    "\n",
    "# Creacion de modelo y ajuste a los datos\n",
    "clf = LogisticRegression()\n",
    "clf.fit(X_scaled, y)\n",
    "\n",
    "# Prediccion y evaluacion del modelo\n",
    "y_pred = clf.predict(X_scaled)\n",
    "acc = accuracy_score(y, y_pred)"
   ]
  },
  {
   "attachments": {},
   "cell_type": "markdown",
   "metadata": {},
   "source": [
    "#1.3 Descenso del gradiente"
   ]
  },
  {
   "cell_type": "code",
   "execution_count": null,
   "metadata": {},
   "outputs": [],
   "source": [
    "def sigmoid(z):\n",
    "    \"\"\"Función sigmoide.\"\"\"\n",
    "    return 1 / (1 + np.exp(-z))\n",
    "\n",
    "def logistic_regression(X, y, num_iter, lr):\n",
    "    \"\"\"Regresión logística con descenso de gradiente.\"\"\"\n",
    "    # Agregamos una columna de unos para theta_0\n",
    "    X = np.column_stack((np.ones(X.shape[0]), X))\n",
    "\n",
    "    # Inicializamos los parámetros theta a cero\n",
    "    theta = np.zeros(X.shape[1])\n",
    "\n",
    "    # Descenso de gradiente\n",
    "    for i in range(num_iter):\n",
    "        # Calculamos la función sigmoide para todos los valores de X*theta\n",
    "        h = sigmoid(np.dot(X, theta))\n",
    "\n",
    "        # Calculamos el gradiente de la función de costo con respecto a theta\n",
    "        gradient = np.dot(X.T, (h - y)) / y.size\n",
    "\n",
    "        # Actualizamos los parámetros theta\n",
    "        theta -= lr * gradient\n",
    "\n",
    "    return theta"
   ]
  },
  {
   "attachments": {},
   "cell_type": "markdown",
   "metadata": {},
   "source": [
    "#1.4 Cross Validation"
   ]
  },
  {
   "cell_type": "code",
   "execution_count": null,
   "metadata": {},
   "outputs": [],
   "source": [
    "def predict(X, theta):\n",
    "    \"\"\"Predice las etiquetas para las características X utilizando los parámetros theta.\"\"\"\n",
    "    # Agregamos una columna de unos para theta_0\n",
    "    X = np.column_stack((np.ones(X.shape[0]), X))\n",
    "\n",
    "    # Calculamos la función sigmoide para todos los valores de X*theta\n",
    "    h = sigmoid(np.dot(X, theta))\n",
    "\n",
    "    # Etiquetas predichas\n",
    "    y_pred = np.round(h)\n",
    "\n",
    "    return y_pred\n",
    "\n",
    "\n",
    "def cross_validation(X, y, k, num_iter, lr):\n",
    "    \"\"\"Realiza k-fold cross-validation para determinar el grado del polinomio.\"\"\"\n",
    "    kf = KFold(n_splits=k, shuffle=True, random_state=42)\n",
    "    best_accuracy = 0\n",
    "    best_degree = 0\n",
    "    for degree in range(1, 6):\n",
    "        # Generamos las características polinomiales de grado degree\n",
    "        X_poly = np.column_stack([X**d for d in range(1, degree+1)])\n",
    "\n",
    "        # Realizamos k-fold cross-validation\n",
    "        accuracies = []\n",
    "        for train_idx, val_idx in kf.split(X):\n",
    "            X_train, y_train = X_poly[train_idx], y[train_idx]\n",
    "            X_val, y_val = X_poly[val_idx], y[val_idx]\n",
    "\n",
    "            # Entrenamos el modelo de regresión logística\n",
    "            theta = logistic_regression(X_train, y_train, num_iter, lr)\n",
    "\n",
    "            # Evaluamos la precisión del modelo en el conjunto de validación\n",
    "            y_pred = predict(X_val, theta)\n",
    "            accuracy = np.mean(y_pred == y_val)\n",
    "            accuracies.append(accuracy)\n",
    "\n",
    "        # Calculamos la precisión promedio sobre todos los pliegues\n",
    "        accuracy = np.mean(accuracies)\n",
    "\n",
    "        # Actualizamos el mejor grado y precisión si encontramos una precisión mejor\n",
    "        if accuracy > best_accuracy:\n",
    "            best_accuracy = accuracy\n",
    "            best_degree = degree\n",
    "\n",
    "    return best_degree, best_accuracy"
   ]
  },
  {
   "attachments": {},
   "cell_type": "markdown",
   "metadata": {},
   "source": [
    "1.5 hallazgos"
   ]
  },
  {
   "cell_type": "code",
   "execution_count": null,
   "metadata": {},
   "outputs": [],
   "source": [
    "# Gráfica de dispersión de los datos originales y la línea de regresión ajustada\n",
    "plt.scatter(X[:,0], y)\n",
    "plt.plot(X[:,0], clf.predict_proba(X_scaled)[:,1], color='red')\n",
    "plt.xlabel('Nivel de colesterol total')\n",
    "plt.ylabel('Riesgo de enfermedad coronaria en 10 años')\n",
    "plt.show()\n",
    "\n",
    "# Gráfica de la función sigmoide utilizada en el modelo\n",
    "z = np.linspace(-10, 10, 100)\n",
    "plt.plot(z, sigmoid(z), color='red')\n",
    "plt.xlabel('z')\n",
    "plt.ylabel('sigmoid(z)')\n",
    "plt.show()\n"
   ]
  }
 ],
 "metadata": {
  "language_info": {
   "name": "python"
  },
  "orig_nbformat": 4
 },
 "nbformat": 4,
 "nbformat_minor": 2
}
